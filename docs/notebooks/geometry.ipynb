{
  "cells": [
    {
      "cell_type": "markdown",
      "metadata": {},
      "source": [
        "# Substrata Geometry Tutorial\n",
        "\n",
        "This walkthrough shows the most common ways to use the **Transform**, **Vector**\n",
        "and **calculate_vector_angle** helpers shipped in `substrata.geometry`.\n",
        "\n",
        "*Requirements*: NumPy ≥ 1.22 (already a transitive dependency) – nothing else."
      ]
    },
    {
      "cell_type": "code",
      "execution_count": null,
      "metadata": {},
      "outputs": [],
      "source": [
        \"\"\"Common imports used throughout the tutorial\"\"\"\n",
        "import numpy as np\n",
        "from substrata.geometry import Transform, Vector, calculate_vector_angle"
      ]
    },
    {
      "cell_type": "markdown",
      "metadata": {},
      "source": [
        "## 1  Creating basic transforms"
      ]
    },
    {
      "cell_type": "code",
      "execution_count": null,
      "metadata": {},
      "outputs": [],
      "source": [
        \"\"\"Identity, translation and uniform scale\"\"\"\n",
        "T_id  = Transform.identity()\n",
        "T_tx  = Transform.from_translation((1.0, 2.0, 3.0))\n",
        "T_s2  = Transform.from_scale(2.0)\n",
        "T_all = T_tx @ T_s2            # composition via `@` operator\n",
        "T_all"
      ]
    },
    {
      "cell_type": "markdown",
      "metadata": {},
      "source": [
        "### Applying a transform to point data"
      ]
    },
    {
      "cell_type": "code",
      "execution_count": null,
      "metadata": {},
      "outputs": [],
      "source": [
        \"\"\"Create a small cube and apply the composed transform\"\"\"\n",
        "cube = np.array([\n",
        "    [-0.5, -0.5, -0.5],\n",
        "    [+0.5, -0.5, -0.5],\n",
        "    [+0.5, +0.5, -0.5],\n",
        "    [-0.5, +0.5, -0.5],\n",
        "])\n",
        "cube_tx = T_all.apply_to_points(cube)\n",
        "cube_tx"
      ]
    },
    {
      "cell_type": "markdown",
      "metadata": {},
      "source": [
        "## 2  Rotations"
      ]
    },
    {
      "cell_type": "code",
      "execution_count": null,
      "metadata": {},
      "outputs": [],
      "source": [
        \"\"\"90 ° about Z using (i) axis–angle and (ii) Euler XYZ\"\"\"\n",
        "T_r1 = Transform.from_axis_angle((0, 0, 1), np.deg2rad(90))\n",
        "T_r2 = Transform.from_euler(0, 0, np.deg2rad(90))\n",
        "np.allclose(T_r1.mat, T_r2.mat)   # sanity-check\n"
      ]
    },
    {
      "cell_type": "markdown",
      "metadata": {},
      "source": [
        "## 3  Point-cloud helpers"
      ]
    },
    {
      "cell_type": "code",
      "execution_count": null,
      "metadata": {},
      "outputs": [],
      "source": [
        \"\"\"Generate random cloud, then recentre around the origin\"\"\"\n",
        "pcd = np.random.rand(10_000, 3) * 10 - 5      # (N,3) in −5…+5 range\n",
        "T_centroid = Transform.from_centroid(pcd)\n",
        "pcd_centered = T_centroid.apply_to_points(pcd)\n",
        "np.mean(pcd_centered, axis=0)                # ≈ (0,0,0)\n"
      ]
    },
    {
      "cell_type": "code",
      "execution_count": null,
      "metadata": {},
      "outputs": [],
      "source": [
        \"\"\"Shift cloud so that all X/Y become non-negative\"\"\"\n",
        "T_pos = Transform.shift_to_positive_xy(pcd_centered)\n",
        "pcd_positive = T_pos.apply_to_points(pcd_centered)\n",
        "pcd_positive.min(axis=0)[:2]                 # X & Y ≥ 0\n"
      ]
    },
    {
      "cell_type": "markdown",
      "metadata": {},
      "source": [
        "## 4  Orienting geometry"
      ]
    },
    {
      "cell_type": "code",
      "execution_count": null,
      "metadata": {},
      "outputs": [],
      "source": [
        \"\"\"Make +Z align with an arbitrary *up* vector\"\"\"\n",
        "up = (0.3, 0.7, 0.6)\n",
        "T_up = Transform.from_up_vector(up)\n",
        "T_up.mat"
      ]
    },
    {
      "cell_type": "code",
      "execution_count": null,
      "metadata": {},
      "outputs": [],
      "source": [
        \"\"\"Rotate XY-plane so that +X points along *v*\"\"\"\n",
        "v = (1, 1, 0)                  # 45° in XY\n",
        "T_x = Transform.align_x_to_vector(v)\n",
        "np.degrees(np.arctan2(*v[::-1]))  # should match\n"
      ]
    },
    {
      "cell_type": "markdown",
      "metadata": {},
      "source": [
        "## 5  Vector utilities"
      ]
    },
    {
      "cell_type": "code",
      "execution_count": null,
      "metadata": {},
      "outputs": [],
      "source": [
        \"\"\"Basic construction, dot product and orientation\"\"\"\n",
        "a = Vector([1, 0, 0])\n",
        "b = Vector([0, 1, 0])\n",
        "a @ b                     # 0 → orthogonal\n",
        "\n",
        "# yaw-pitch-roll to make +Z coincide with *c*\n",
        "c = Vector([0.3, 0.4, 0.9])\n",
        "c.intrinsic_zyx_angles()"
      ]
    },
    {
      "cell_type": "markdown",
      "metadata": {},
      "source": [
        "## 6  Angle helper for 2-D vectors"
      ]
    },
    {
      "cell_type": "code",
      "execution_count": null,
      "metadata": {},
      "outputs": [],
      "source": [
        \"\"\"Angle between (dx,dy) and +X in degrees\"\"\"\n",
        "calculate_vector_angle(opposite_y=1, adjacent_x=1)   # 45°"
      ]
    },
    {
      "cell_type": "markdown",
      "metadata": {},
      "source": [
        "---\n",
        "🎉 **That’s it!** You now have a quick-start reference for every helper in\n",
        "`substrata.geometry`."
      ]
    }
  ],
  "metadata": {
    "kernelspec": {
      "display_name": "python3",
      "language": "python",
      "name": "python3"
    },
    "language_info": {
      "name": "python",
      "version": "3.11"
    }
  },
  "nbformat": 4,
  "nbformat_minor": 5
}
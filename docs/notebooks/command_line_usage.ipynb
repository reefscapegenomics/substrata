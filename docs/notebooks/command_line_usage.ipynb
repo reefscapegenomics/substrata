{
 "cells": [
  {
   "cell_type": "markdown",
   "id": "0f75d1d5",
   "metadata": {},
   "source": [
    "# Command-line usage of `substrata`\n",
    "\n",
    "This tutorial will walk you through available command-line tools of the `substrata` Python package."
   ]
  },
  {
   "cell_type": "markdown",
   "id": "9fb4cf00",
   "metadata": {},
   "source": [
    "## Decimation of PLY files\n",
    "Usage: substrata decimate [input_file.ply] [output_file.ply] [points_to_keep]"
   ]
  },
  {
   "cell_type": "code",
   "execution_count": null,
   "id": "db6765aa",
   "metadata": {
    "vscode": {
     "languageId": "plaintext"
    }
   },
   "outputs": [],
   "source": [
    "$ substrata decimate cur_sna_20m_20200303.ply cur_sna_20m_20200303_dec50M.ply 50000000\n",
    "Read/Sample: 100%|███████████████████| 2545302496/2545302496 [02:16<00:00, 18708107.45vtx/s]"
   ]
  },
  {
   "cell_type": "markdown",
   "id": "2f8491d3",
   "metadata": {},
   "source": [
    "## Visual assessment of scalebars\n",
    "Usage: substrata scalebards [input_file.ply] [marker_file.csv] [output_file.pdf]"
   ]
  },
  {
   "cell_type": "code",
   "execution_count": null,
   "id": "171c6ba6",
   "metadata": {
    "vscode": {
     "languageId": "plaintext"
    }
   },
   "outputs": [],
   "source": [
    "$ substrata scalebars cur_sna_20m_20200303_dec50M.ply cur_sna_20m_20200303_markers.csv ~/scalebar_check.pdf"
   ]
  },
  {
   "cell_type": "markdown",
   "id": "408fa3bf",
   "metadata": {},
   "source": []
  }
 ],
 "metadata": {
  "language_info": {
   "name": "python"
  }
 },
 "nbformat": 4,
 "nbformat_minor": 5
}
